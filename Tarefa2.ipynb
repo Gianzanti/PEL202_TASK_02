{
 "cells": [
  {
   "attachments": {},
   "cell_type": "markdown",
   "metadata": {},
   "source": [
    "# Problema dos Missionários e Canibais\n",
    "\n",
    "O problema dos missionários e canibais é um problema clássico de inteligência artificial, que consiste em encontrar uma sequência de ações que permita a um grupo de missionários e canibais atravessar um rio usando uma canoa, respeitando as seguintes restrições:\n",
    "\n",
    "* O barco só pode levar no máximo dois passageiros.\n",
    "* O número de missionários não pode ser inferior ao número de canibais em qualquer margem do rio.\n",
    "\n",
    "O problema foi proposto por Emil L. Post em 1968, e é um exemplo de problema de busca em espaço de estados. O problema foi inicialmente proposto para ser resolvido por um computador, mas pode ser resolvido facilmente por um ser humano.\n",
    "\n",
    "O problema dos missionários e canibais é um problema de busca em espaço de estados, e pode ser resolvido por meio de algoritmos de busca em largura, busca em profundidade, busca em profundidade limitada, busca em profundidade iterativa, busca gulosa, busca A* e busca IDA*."
   ]
  },
  {
   "cell_type": "code",
   "execution_count": 54,
   "metadata": {},
   "outputs": [
    {
     "name": "stdout",
     "output_type": "stream",
     "text": [
      "\n",
      "\n",
      "A* - 11 passos - 0.4851818084716797 ms - 14 estados analisados\n",
      "\n",
      "\n",
      "GBFS - 11 passos - 0.9152889251708984 ms - 14 estados analisados\n",
      "\n",
      "\n",
      "BFS - 11 passos - 0.8637905120849609 ms - 14 estados analisados\n",
      "\n",
      "\n",
      "DFS - 11 passos - 0.8406639099121094 ms - 12 estados analisados\n"
     ]
    }
   ],
   "source": [
    "from MCSolution import MCSolution\n",
    "\n",
    "groupSize = 3\n",
    "boatCapacity = 2\n",
    "algorithms = [\"A*\", \"GBFS\", \"BFS\", \"DFS\"]\n",
    "# algorithms = [\"A*\"]\n",
    "showGraph = True\n",
    "solution = MCSolution(groupSize=groupSize, boatCapacity=boatCapacity)\n",
    "for i in algorithms:\n",
    "    solution.findSolution(i, show=showGraph)\n",
    "\n"
   ]
  }
 ],
 "metadata": {
  "kernelspec": {
   "display_name": "Python 3",
   "language": "python",
   "name": "python3"
  },
  "language_info": {
   "codemirror_mode": {
    "name": "ipython",
    "version": 3
   },
   "file_extension": ".py",
   "mimetype": "text/x-python",
   "name": "python",
   "nbconvert_exporter": "python",
   "pygments_lexer": "ipython3",
   "version": "3.10.6"
  },
  "orig_nbformat": 4
 },
 "nbformat": 4,
 "nbformat_minor": 2
}
